{
 "cells": [
  {
   "cell_type": "code",
   "execution_count": 2,
   "metadata": {},
   "outputs": [],
   "source": [
    "import numpy as np\n",
    "import matplotlib.pyplot as plt\n",
    "import pandas as pd"
   ]
  },
  {
   "cell_type": "code",
   "execution_count": 3,
   "metadata": {},
   "outputs": [],
   "source": [
    "# Read file line by line and take first three characters of each line for pixel and 5th character for mask\n",
    "def read_file(file):\n",
    "    with open(file) as f:\n",
    "        lines = f.readlines()\n",
    "    pixels = []\n",
    "    masks = []\n",
    "    for line in lines:\n",
    "        pixels.append(line[:3])\n",
    "        masks.append(line[4])\n",
    "    return pixels, masks\n",
    "\n",
    "# Convert pixel values to integers\n",
    "def convert_pixels(pixels):\n",
    "    pixels = [int(pixel) for pixel in pixels]\n",
    "    return pixels\n",
    "\n",
    "# Convert mask values to integers\n",
    "def convert_masks(masks):\n",
    "    masks = [int(mask) for mask in masks]\n",
    "    return masks\n",
    "\n",
    "# Create a dataframe with pixel and mask values\n",
    "def create_dataframe(pixels, masks):\n",
    "    df = pd.DataFrame({'pixel': pixels, 'mask': masks})\n",
    "    return df\n",
    "\n",
    "pixels, masks = read_file('output_file.txt')\n",
    "pixels = convert_pixels(pixels)\n",
    "masks = convert_masks(masks)\n",
    "df = create_dataframe(pixels, masks)"
   ]
  },
  {
   "cell_type": "code",
   "execution_count": 4,
   "metadata": {},
   "outputs": [
    {
     "data": {
      "text/html": [
       "<div>\n",
       "<style scoped>\n",
       "    .dataframe tbody tr th:only-of-type {\n",
       "        vertical-align: middle;\n",
       "    }\n",
       "\n",
       "    .dataframe tbody tr th {\n",
       "        vertical-align: top;\n",
       "    }\n",
       "\n",
       "    .dataframe thead th {\n",
       "        text-align: right;\n",
       "    }\n",
       "</style>\n",
       "<table border=\"1\" class=\"dataframe\">\n",
       "  <thead>\n",
       "    <tr style=\"text-align: right;\">\n",
       "      <th></th>\n",
       "      <th>pixel</th>\n",
       "      <th>mask</th>\n",
       "    </tr>\n",
       "  </thead>\n",
       "  <tbody>\n",
       "    <tr>\n",
       "      <th>0</th>\n",
       "      <td>0</td>\n",
       "      <td>0</td>\n",
       "    </tr>\n",
       "    <tr>\n",
       "      <th>1</th>\n",
       "      <td>0</td>\n",
       "      <td>0</td>\n",
       "    </tr>\n",
       "    <tr>\n",
       "      <th>2</th>\n",
       "      <td>0</td>\n",
       "      <td>0</td>\n",
       "    </tr>\n",
       "    <tr>\n",
       "      <th>3</th>\n",
       "      <td>0</td>\n",
       "      <td>0</td>\n",
       "    </tr>\n",
       "    <tr>\n",
       "      <th>4</th>\n",
       "      <td>0</td>\n",
       "      <td>0</td>\n",
       "    </tr>\n",
       "    <tr>\n",
       "      <th>...</th>\n",
       "      <td>...</td>\n",
       "      <td>...</td>\n",
       "    </tr>\n",
       "    <tr>\n",
       "      <th>268</th>\n",
       "      <td>0</td>\n",
       "      <td>1</td>\n",
       "    </tr>\n",
       "    <tr>\n",
       "      <th>269</th>\n",
       "      <td>0</td>\n",
       "      <td>1</td>\n",
       "    </tr>\n",
       "    <tr>\n",
       "      <th>270</th>\n",
       "      <td>0</td>\n",
       "      <td>1</td>\n",
       "    </tr>\n",
       "    <tr>\n",
       "      <th>271</th>\n",
       "      <td>0</td>\n",
       "      <td>1</td>\n",
       "    </tr>\n",
       "    <tr>\n",
       "      <th>272</th>\n",
       "      <td>0</td>\n",
       "      <td>1</td>\n",
       "    </tr>\n",
       "  </tbody>\n",
       "</table>\n",
       "<p>273 rows × 2 columns</p>\n",
       "</div>"
      ],
      "text/plain": [
       "     pixel  mask\n",
       "0        0     0\n",
       "1        0     0\n",
       "2        0     0\n",
       "3        0     0\n",
       "4        0     0\n",
       "..     ...   ...\n",
       "268      0     1\n",
       "269      0     1\n",
       "270      0     1\n",
       "271      0     1\n",
       "272      0     1\n",
       "\n",
       "[273 rows x 2 columns]"
      ]
     },
     "execution_count": 4,
     "metadata": {},
     "output_type": "execute_result"
    }
   ],
   "source": [
    "df"
   ]
  },
  {
   "cell_type": "code",
   "execution_count": 5,
   "metadata": {},
   "outputs": [
    {
     "data": {
      "text/plain": [
       "<matplotlib.image.AxesImage at 0x1b1d59889b0>"
      ]
     },
     "execution_count": 5,
     "metadata": {},
     "output_type": "execute_result"
    },
    {
     "data": {
      "image/png": "[encoded data removed]",
      "text/plain": [
       "<Figure size 640x480 with 1 Axes>"
      ]
     },
     "metadata": {},
     "output_type": "display_data"
    }
   ],
   "source": [
    "# Keep only rows with mask value 1\n",
    "df = df[df['mask'] == 1]\n",
    "\n",
    "# convert pixel values to numpy array\n",
    "pixels = df['pixel'].values\n",
    "\n",
    "# reshape pixel values to 2D array of size 16x16\n",
    "pixels = np.reshape(pixels, (16, 16))\n",
    "\n",
    "# plot the image\n",
    "plt.imshow(pixels, cmap='gray')"
   ]
  },
  {
   "cell_type": "code",
   "execution_count": 7,
   "metadata": {},
   "outputs": [],
   "source": [
    "# read txt function but without mask\n",
    "def read_txt(file):\n",
    "    with open(file) as f:\n",
    "        lines = f.readlines()\n",
    "    pixels = []\n",
    "    for line in lines:\n",
    "        pixels.append(line[:3])\n",
    "    return pixels"
   ]
  },
  {
   "cell_type": "code",
   "execution_count": 10,
   "metadata": {},
   "outputs": [
    {
     "data": {
      "text/plain": [
       "<matplotlib.image.AxesImage at 0x1b1d59f1e50>"
      ]
     },
     "execution_count": 10,
     "metadata": {},
     "output_type": "execute_result"
    },
    {
     "data": {
      "image/png": "[encoded data removed]",
      "text/plain": [
       "<Figure size 640x480 with 1 Axes>"
      ]
     },
     "metadata": {},
     "output_type": "display_data"
    }
   ],
   "source": [
    "# Read image.txt file and plot the image\n",
    "input_img = read_txt('image.txt')\n",
    "input_img = convert_pixels(input_img)\n",
    "\n",
    "input_img = input_img[:256]\n",
    "\n",
    "input_img = np.reshape(input_img, (16, 16))\n",
    "plt.imshow(input_img, cmap='gray')"
   ]
  },
  {
   "cell_type": "code",
   "execution_count": 11,
   "metadata": {},
   "outputs": [
    {
     "data": {
      "text/plain": [
       "<matplotlib.image.AxesImage at 0x1b1d7c8e7e0>"
      ]
     },
     "execution_count": 11,
     "metadata": {},
     "output_type": "execute_result"
    },
    {
     "data": {
      "image/png": "[encoded data removed]",
      "text/plain": [
       "<Figure size 640x480 with 1 Axes>"
      ]
     },
     "metadata": {},
     "output_type": "display_data"
    }
   ],
   "source": [
    "output_img = read_txt('output.txt')\n",
    "output_img = convert_pixels(output_img)\n",
    "\n",
    "output_img = output_img[:256]\n",
    "\n",
    "output_img = np.reshape(output_img, (16, 16))\n",
    "plt.imshow(output_img, cmap='gray')"
   ]
  },
  {
   "cell_type": "code",
   "execution_count": 14,
   "metadata": {},
   "outputs": [
    {
     "data": {
      "image/png": "[encoded data removed]",
      "text/plain": [
       "<Figure size 1500x500 with 3 Axes>"
      ]
     },
     "metadata": {},
     "output_type": "display_data"
    }
   ],
   "source": [
    "# Plot pixels, input_img and output_img on the same plot\n",
    "fig, ax = plt.subplots(1, 3)\n",
    "fig.set_size_inches(15, 5)\n",
    "ax[2].imshow(pixels, cmap='gray')\n",
    "ax[2].set_title('Generated Image')\n",
    "ax[0].imshow(input_img, cmap='gray')\n",
    "ax[0].set_title('Input Image')\n",
    "ax[1].imshow(output_img, cmap='gray')\n",
    "ax[1].set_title('Expected Output Image')\n",
    "plt.show()"
   ]
  },
  {
   "cell_type": "code",
   "execution_count": null,
   "metadata": {},
   "outputs": [],
   "source": []
  }
 ],
 "metadata": {
  "kernelspec": {
   "display_name": "Python 3",
   "language": "python",
   "name": "python3"
  },
  "language_info": {
   "codemirror_mode": {
    "name": "ipython",
    "version": 3
   },
   "file_extension": ".py",
   "mimetype": "text/x-python",
   "name": "python",
   "nbconvert_exporter": "python",
   "pygments_lexer": "ipython3",
   "version": "3.12.4"
  }
 },
 "nbformat": 4,
 "nbformat_minor": 2
}
